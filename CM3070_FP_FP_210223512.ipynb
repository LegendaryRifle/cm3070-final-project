{
 "cells": [
  {
   "attachments": {
    "University%20of%20London.png": {
     "image/png": "[encoded data removed]"
    }
   },
   "cell_type": "markdown",
   "id": "ded9e8e4",
   "metadata": {},
   "source": [
    "![University%20of%20London.png](attachment:University%20of%20London.png)"
   ]
  },
  {
   "cell_type": "markdown",
   "id": "c0d1c166",
   "metadata": {},
   "source": [
    "## CM3070 Final Project\n",
    "\n",
    "### Final Prototype"
   ]
  },
  {
   "cell_type": "markdown",
   "id": "2eab0f48",
   "metadata": {},
   "source": [
    "`Student ID         : 210223512    `<br>\n",
    "`Date of Submission : 27 March 2023`<br>"
   ]
  },
  {
   "cell_type": "code",
   "execution_count": 1,
   "id": "76e40f6a",
   "metadata": {},
   "outputs": [],
   "source": [
    "# import libraries\n",
    "import os\n",
    "import itertools\n",
    "import numpy as np\n",
    "import pandas as pd\n",
    "import tensorflow as tf\n",
    "import matplotlib.pyplot as plt"
   ]
  },
  {
   "cell_type": "code",
   "execution_count": 2,
   "id": "8a5107db",
   "metadata": {},
   "outputs": [],
   "source": [
    "# import libraries\n",
    "from keras.layers import Dense\n",
    "from keras.utils import np_utils\n",
    "from keras.models import Sequential\n",
    "from sklearn.impute import KNNImputer\n",
    "from keras.callbacks import EarlyStopping\n",
    "from sklearn.compose import ColumnTransformer\n",
    "from sklearn.model_selection import train_test_split\n",
    "from sklearn.utils.class_weight import compute_class_weight\n",
    "from sklearn.preprocessing import LabelEncoder, OneHotEncoder, StandardScaler\n",
    "from sklearn.metrics import accuracy_score,  precision_score, recall_score, roc_auc_score\n",
    "from sklearn.metrics import balanced_accuracy_score, confusion_matrix, ConfusionMatrixDisplay"
   ]
  },
  {
   "cell_type": "code",
   "execution_count": 3,
   "id": "c8b86c7a",
   "metadata": {},
   "outputs": [],
   "source": [
    "# store the data as a dataframe in the variable df\n",
    "df = pd.read_csv('dataset.csv')"
   ]
  },
  {
   "cell_type": "code",
   "execution_count": 4,
   "id": "df253cfe",
   "metadata": {},
   "outputs": [
    {
     "data": {
      "text/html": [
       "<div>\n",
       "<style scoped>\n",
       "    .dataframe tbody tr th:only-of-type {\n",
       "        vertical-align: middle;\n",
       "    }\n",
       "\n",
       "    .dataframe tbody tr th {\n",
       "        vertical-align: top;\n",
       "    }\n",
       "\n",
       "    .dataframe thead th {\n",
       "        text-align: right;\n",
       "    }\n",
       "</style>\n",
       "<table border=\"1\" class=\"dataframe\">\n",
       "  <thead>\n",
       "    <tr style=\"text-align: right;\">\n",
       "      <th></th>\n",
       "      <th>year</th>\n",
       "      <th>state</th>\n",
       "      <th>white_population_pct</th>\n",
       "      <th>african_american_population_pct</th>\n",
       "      <th>asian_population_pct</th>\n",
       "      <th>hispanic_population_pct</th>\n",
       "      <th>university_graduates</th>\n",
       "      <th>unemployment_rate</th>\n",
       "      <th>poverty_rate</th>\n",
       "      <th>median_age</th>\n",
       "      <th>median_household_income</th>\n",
       "      <th>cook_partisan_voting_index</th>\n",
       "      <th>democratic_votes</th>\n",
       "      <th>republican_votes</th>\n",
       "      <th>midterm_election</th>\n",
       "      <th>winner</th>\n",
       "    </tr>\n",
       "  </thead>\n",
       "  <tbody>\n",
       "    <tr>\n",
       "      <th>0</th>\n",
       "      <td>2002</td>\n",
       "      <td>Alabama</td>\n",
       "      <td>NaN</td>\n",
       "      <td>NaN</td>\n",
       "      <td>NaN</td>\n",
       "      <td>NaN</td>\n",
       "      <td>0.227</td>\n",
       "      <td>0.059</td>\n",
       "      <td>0.154</td>\n",
       "      <td>NaN</td>\n",
       "      <td>35943</td>\n",
       "      <td>NaN</td>\n",
       "      <td>538878</td>\n",
       "      <td>792561</td>\n",
       "      <td>Yes</td>\n",
       "      <td>Republican</td>\n",
       "    </tr>\n",
       "    <tr>\n",
       "      <th>1</th>\n",
       "      <td>2002</td>\n",
       "      <td>Alaska</td>\n",
       "      <td>NaN</td>\n",
       "      <td>NaN</td>\n",
       "      <td>NaN</td>\n",
       "      <td>NaN</td>\n",
       "      <td>0.256</td>\n",
       "      <td>0.073</td>\n",
       "      <td>0.093</td>\n",
       "      <td>NaN</td>\n",
       "      <td>51844</td>\n",
       "      <td>NaN</td>\n",
       "      <td>24133</td>\n",
       "      <td>179438</td>\n",
       "      <td>Yes</td>\n",
       "      <td>Republican</td>\n",
       "    </tr>\n",
       "    <tr>\n",
       "      <th>2</th>\n",
       "      <td>2002</td>\n",
       "      <td>Arkansas</td>\n",
       "      <td>NaN</td>\n",
       "      <td>NaN</td>\n",
       "      <td>NaN</td>\n",
       "      <td>NaN</td>\n",
       "      <td>0.183</td>\n",
       "      <td>0.055</td>\n",
       "      <td>0.163</td>\n",
       "      <td>NaN</td>\n",
       "      <td>32819</td>\n",
       "      <td>NaN</td>\n",
       "      <td>433386</td>\n",
       "      <td>370735</td>\n",
       "      <td>Yes</td>\n",
       "      <td>Democratic</td>\n",
       "    </tr>\n",
       "    <tr>\n",
       "      <th>3</th>\n",
       "      <td>2002</td>\n",
       "      <td>Colorado</td>\n",
       "      <td>NaN</td>\n",
       "      <td>NaN</td>\n",
       "      <td>NaN</td>\n",
       "      <td>NaN</td>\n",
       "      <td>0.357</td>\n",
       "      <td>0.055</td>\n",
       "      <td>0.095</td>\n",
       "      <td>NaN</td>\n",
       "      <td>48060</td>\n",
       "      <td>NaN</td>\n",
       "      <td>648130</td>\n",
       "      <td>717893</td>\n",
       "      <td>Yes</td>\n",
       "      <td>Republican</td>\n",
       "    </tr>\n",
       "    <tr>\n",
       "      <th>4</th>\n",
       "      <td>2002</td>\n",
       "      <td>Delaware</td>\n",
       "      <td>NaN</td>\n",
       "      <td>NaN</td>\n",
       "      <td>NaN</td>\n",
       "      <td>NaN</td>\n",
       "      <td>0.295</td>\n",
       "      <td>0.040</td>\n",
       "      <td>0.093</td>\n",
       "      <td>NaN</td>\n",
       "      <td>48096</td>\n",
       "      <td>NaN</td>\n",
       "      <td>135253</td>\n",
       "      <td>94793</td>\n",
       "      <td>Yes</td>\n",
       "      <td>Democratic</td>\n",
       "    </tr>\n",
       "  </tbody>\n",
       "</table>\n",
       "</div>"
      ],
      "text/plain": [
       "   year     state  white_population_pct  african_american_population_pct  \\\n",
       "0  2002   Alabama                   NaN                              NaN   \n",
       "1  2002    Alaska                   NaN                              NaN   \n",
       "2  2002  Arkansas                   NaN                              NaN   \n",
       "3  2002  Colorado                   NaN                              NaN   \n",
       "4  2002  Delaware                   NaN                              NaN   \n",
       "\n",
       "   asian_population_pct  hispanic_population_pct  university_graduates  \\\n",
       "0                   NaN                      NaN                 0.227   \n",
       "1                   NaN                      NaN                 0.256   \n",
       "2                   NaN                      NaN                 0.183   \n",
       "3                   NaN                      NaN                 0.357   \n",
       "4                   NaN                      NaN                 0.295   \n",
       "\n",
       "   unemployment_rate  poverty_rate  median_age  median_household_income  \\\n",
       "0              0.059         0.154         NaN                    35943   \n",
       "1              0.073         0.093         NaN                    51844   \n",
       "2              0.055         0.163         NaN                    32819   \n",
       "3              0.055         0.095         NaN                    48060   \n",
       "4              0.040         0.093         NaN                    48096   \n",
       "\n",
       "   cook_partisan_voting_index  democratic_votes  republican_votes  \\\n",
       "0                         NaN            538878            792561   \n",
       "1                         NaN             24133            179438   \n",
       "2                         NaN            433386            370735   \n",
       "3                         NaN            648130            717893   \n",
       "4                         NaN            135253             94793   \n",
       "\n",
       "  midterm_election      winner  \n",
       "0              Yes  Republican  \n",
       "1              Yes  Republican  \n",
       "2              Yes  Democratic  \n",
       "3              Yes  Republican  \n",
       "4              Yes  Democratic  "
      ]
     },
     "execution_count": 4,
     "metadata": {},
     "output_type": "execute_result"
    }
   ],
   "source": [
    "# display the first five rows of the dataframe\n",
    "df.head()"
   ]
  },
  {
   "cell_type": "code",
   "execution_count": 5,
   "id": "922f70fd",
   "metadata": {},
   "outputs": [],
   "source": [
    "# define a method to create time-shifted features\n",
    "def create_time_shifted_features(data):\n",
    "    \n",
    "    old_data = {}\n",
    "    new_data = pd.DataFrame()\n",
    "    \n",
    "    for state in data['state'].unique():\n",
    "        old_data[state] = data[data['state'] == state].sort_values(by = ['year'])\n",
    "     \n",
    "    for state, df in old_data.items():\n",
    "        previous = df.shift(1)\n",
    "        previous.columns = ['previous_' + column for column in previous.columns]\n",
    "        df.columns = ['current_' + column for column in df.columns]\n",
    "        concat = pd.concat([df, previous], axis = 1).iloc[1:]\n",
    "        \n",
    "        if len(new_data) > 0:\n",
    "            new_data = pd.concat([new_data, concat], axis = 0)\n",
    "        else:\n",
    "            new_data = concat\n",
    "            \n",
    "    return new_data"
   ]
  },
  {
   "cell_type": "code",
   "execution_count": 6,
   "id": "ba7ce244",
   "metadata": {},
   "outputs": [],
   "source": [
    "# creates time-shifted features using the data\n",
    "df = create_time_shifted_features(df)"
   ]
  },
  {
   "cell_type": "code",
   "execution_count": 7,
   "id": "47f9f7c7",
   "metadata": {},
   "outputs": [
    {
     "data": {
      "text/html": [
       "<div>\n",
       "<style scoped>\n",
       "    .dataframe tbody tr th:only-of-type {\n",
       "        vertical-align: middle;\n",
       "    }\n",
       "\n",
       "    .dataframe tbody tr th {\n",
       "        vertical-align: top;\n",
       "    }\n",
       "\n",
       "    .dataframe thead th {\n",
       "        text-align: right;\n",
       "    }\n",
       "</style>\n",
       "<table border=\"1\" class=\"dataframe\">\n",
       "  <thead>\n",
       "    <tr style=\"text-align: right;\">\n",
       "      <th></th>\n",
       "      <th>current_year</th>\n",
       "      <th>current_state</th>\n",
       "      <th>current_white_population_pct</th>\n",
       "      <th>current_african_american_population_pct</th>\n",
       "      <th>current_asian_population_pct</th>\n",
       "      <th>current_hispanic_population_pct</th>\n",
       "      <th>current_university_graduates</th>\n",
       "      <th>current_unemployment_rate</th>\n",
       "      <th>current_poverty_rate</th>\n",
       "      <th>current_median_age</th>\n",
       "      <th>...</th>\n",
       "      <th>previous_university_graduates</th>\n",
       "      <th>previous_unemployment_rate</th>\n",
       "      <th>previous_poverty_rate</th>\n",
       "      <th>previous_median_age</th>\n",
       "      <th>previous_median_household_income</th>\n",
       "      <th>previous_cook_partisan_voting_index</th>\n",
       "      <th>previous_democratic_votes</th>\n",
       "      <th>previous_republican_votes</th>\n",
       "      <th>previous_midterm_election</th>\n",
       "      <th>previous_winner</th>\n",
       "    </tr>\n",
       "  </thead>\n",
       "  <tbody>\n",
       "    <tr>\n",
       "      <th>29</th>\n",
       "      <td>2004</td>\n",
       "      <td>Alabama</td>\n",
       "      <td>NaN</td>\n",
       "      <td>NaN</td>\n",
       "      <td>NaN</td>\n",
       "      <td>NaN</td>\n",
       "      <td>0.223</td>\n",
       "      <td>0.057</td>\n",
       "      <td>0.161</td>\n",
       "      <td>NaN</td>\n",
       "      <td>...</td>\n",
       "      <td>0.227</td>\n",
       "      <td>0.059</td>\n",
       "      <td>0.154</td>\n",
       "      <td>NaN</td>\n",
       "      <td>35943.0</td>\n",
       "      <td>NaN</td>\n",
       "      <td>538878.0</td>\n",
       "      <td>792561.0</td>\n",
       "      <td>Yes</td>\n",
       "      <td>Republican</td>\n",
       "    </tr>\n",
       "    <tr>\n",
       "      <th>93</th>\n",
       "      <td>2008</td>\n",
       "      <td>Alabama</td>\n",
       "      <td>NaN</td>\n",
       "      <td>NaN</td>\n",
       "      <td>NaN</td>\n",
       "      <td>NaN</td>\n",
       "      <td>0.220</td>\n",
       "      <td>0.057</td>\n",
       "      <td>0.159</td>\n",
       "      <td>NaN</td>\n",
       "      <td>...</td>\n",
       "      <td>0.223</td>\n",
       "      <td>0.057</td>\n",
       "      <td>0.161</td>\n",
       "      <td>NaN</td>\n",
       "      <td>37062.0</td>\n",
       "      <td>NaN</td>\n",
       "      <td>595018.0</td>\n",
       "      <td>1242200.0</td>\n",
       "      <td>No</td>\n",
       "      <td>Republican</td>\n",
       "    </tr>\n",
       "    <tr>\n",
       "      <th>125</th>\n",
       "      <td>2010</td>\n",
       "      <td>Alabama</td>\n",
       "      <td>0.707</td>\n",
       "      <td>0.270</td>\n",
       "      <td>0.014</td>\n",
       "      <td>0.038</td>\n",
       "      <td>0.219</td>\n",
       "      <td>0.105</td>\n",
       "      <td>0.189</td>\n",
       "      <td>37.8</td>\n",
       "      <td>...</td>\n",
       "      <td>0.220</td>\n",
       "      <td>0.057</td>\n",
       "      <td>0.159</td>\n",
       "      <td>NaN</td>\n",
       "      <td>42586.0</td>\n",
       "      <td>8.0</td>\n",
       "      <td>752391.0</td>\n",
       "      <td>1305383.0</td>\n",
       "      <td>No</td>\n",
       "      <td>Republican</td>\n",
       "    </tr>\n",
       "    <tr>\n",
       "      <th>220</th>\n",
       "      <td>2016</td>\n",
       "      <td>Alabama</td>\n",
       "      <td>0.732</td>\n",
       "      <td>0.053</td>\n",
       "      <td>0.076</td>\n",
       "      <td>0.067</td>\n",
       "      <td>0.247</td>\n",
       "      <td>0.058</td>\n",
       "      <td>0.172</td>\n",
       "      <td>39.0</td>\n",
       "      <td>...</td>\n",
       "      <td>0.219</td>\n",
       "      <td>0.105</td>\n",
       "      <td>0.189</td>\n",
       "      <td>37.8</td>\n",
       "      <td>40538.0</td>\n",
       "      <td>13.0</td>\n",
       "      <td>515619.0</td>\n",
       "      <td>968181.0</td>\n",
       "      <td>Yes</td>\n",
       "      <td>Republican</td>\n",
       "    </tr>\n",
       "    <tr>\n",
       "      <th>283</th>\n",
       "      <td>2020</td>\n",
       "      <td>Alabama</td>\n",
       "      <td>0.803</td>\n",
       "      <td>0.165</td>\n",
       "      <td>0.016</td>\n",
       "      <td>0.069</td>\n",
       "      <td>0.278</td>\n",
       "      <td>0.064</td>\n",
       "      <td>0.149</td>\n",
       "      <td>39.2</td>\n",
       "      <td>...</td>\n",
       "      <td>0.247</td>\n",
       "      <td>0.058</td>\n",
       "      <td>0.172</td>\n",
       "      <td>39.0</td>\n",
       "      <td>46309.0</td>\n",
       "      <td>14.0</td>\n",
       "      <td>748709.0</td>\n",
       "      <td>1335104.0</td>\n",
       "      <td>No</td>\n",
       "      <td>Republican</td>\n",
       "    </tr>\n",
       "  </tbody>\n",
       "</table>\n",
       "<p>5 rows × 32 columns</p>\n",
       "</div>"
      ],
      "text/plain": [
       "     current_year current_state  current_white_population_pct  \\\n",
       "29           2004       Alabama                           NaN   \n",
       "93           2008       Alabama                           NaN   \n",
       "125          2010       Alabama                         0.707   \n",
       "220          2016       Alabama                         0.732   \n",
       "283          2020       Alabama                         0.803   \n",
       "\n",
       "     current_african_american_population_pct  current_asian_population_pct  \\\n",
       "29                                       NaN                           NaN   \n",
       "93                                       NaN                           NaN   \n",
       "125                                    0.270                         0.014   \n",
       "220                                    0.053                         0.076   \n",
       "283                                    0.165                         0.016   \n",
       "\n",
       "     current_hispanic_population_pct  current_university_graduates  \\\n",
       "29                               NaN                         0.223   \n",
       "93                               NaN                         0.220   \n",
       "125                            0.038                         0.219   \n",
       "220                            0.067                         0.247   \n",
       "283                            0.069                         0.278   \n",
       "\n",
       "     current_unemployment_rate  current_poverty_rate  current_median_age  ...  \\\n",
       "29                       0.057                 0.161                 NaN  ...   \n",
       "93                       0.057                 0.159                 NaN  ...   \n",
       "125                      0.105                 0.189                37.8  ...   \n",
       "220                      0.058                 0.172                39.0  ...   \n",
       "283                      0.064                 0.149                39.2  ...   \n",
       "\n",
       "     previous_university_graduates  previous_unemployment_rate  \\\n",
       "29                           0.227                       0.059   \n",
       "93                           0.223                       0.057   \n",
       "125                          0.220                       0.057   \n",
       "220                          0.219                       0.105   \n",
       "283                          0.247                       0.058   \n",
       "\n",
       "     previous_poverty_rate  previous_median_age  \\\n",
       "29                   0.154                  NaN   \n",
       "93                   0.161                  NaN   \n",
       "125                  0.159                  NaN   \n",
       "220                  0.189                 37.8   \n",
       "283                  0.172                 39.0   \n",
       "\n",
       "    previous_median_household_income previous_cook_partisan_voting_index  \\\n",
       "29                           35943.0                                 NaN   \n",
       "93                           37062.0                                 NaN   \n",
       "125                          42586.0                                 8.0   \n",
       "220                          40538.0                                13.0   \n",
       "283                          46309.0                                14.0   \n",
       "\n",
       "     previous_democratic_votes previous_republican_votes  \\\n",
       "29                    538878.0                  792561.0   \n",
       "93                    595018.0                 1242200.0   \n",
       "125                   752391.0                 1305383.0   \n",
       "220                   515619.0                  968181.0   \n",
       "283                   748709.0                 1335104.0   \n",
       "\n",
       "     previous_midterm_election  previous_winner  \n",
       "29                         Yes       Republican  \n",
       "93                          No       Republican  \n",
       "125                         No       Republican  \n",
       "220                        Yes       Republican  \n",
       "283                         No       Republican  \n",
       "\n",
       "[5 rows x 32 columns]"
      ]
     },
     "execution_count": 7,
     "metadata": {},
     "output_type": "execute_result"
    }
   ],
   "source": [
    "# display the first five rows of the dataframe\n",
    "df.head()"
   ]
  },
  {
   "cell_type": "code",
   "execution_count": 8,
   "id": "54a286f4",
   "metadata": {},
   "outputs": [
    {
     "data": {
      "text/plain": [
       "Index(['current_year', 'current_state', 'current_white_population_pct',\n",
       "       'current_african_american_population_pct',\n",
       "       'current_asian_population_pct', 'current_hispanic_population_pct',\n",
       "       'current_university_graduates', 'current_unemployment_rate',\n",
       "       'current_poverty_rate', 'current_median_age',\n",
       "       'current_median_household_income', 'current_cook_partisan_voting_index',\n",
       "       'current_democratic_votes', 'current_republican_votes',\n",
       "       'current_midterm_election', 'current_winner', 'previous_year',\n",
       "       'previous_state', 'previous_white_population_pct',\n",
       "       'previous_african_american_population_pct',\n",
       "       'previous_asian_population_pct', 'previous_hispanic_population_pct',\n",
       "       'previous_university_graduates', 'previous_unemployment_rate',\n",
       "       'previous_poverty_rate', 'previous_median_age',\n",
       "       'previous_median_household_income',\n",
       "       'previous_cook_partisan_voting_index', 'previous_democratic_votes',\n",
       "       'previous_republican_votes', 'previous_midterm_election',\n",
       "       'previous_winner'],\n",
       "      dtype='object')"
      ]
     },
     "execution_count": 8,
     "metadata": {},
     "output_type": "execute_result"
    }
   ],
   "source": [
    "# display the columns of the dataframe\n",
    "df.columns"
   ]
  },
  {
   "cell_type": "code",
   "execution_count": 9,
   "id": "0816ab16",
   "metadata": {},
   "outputs": [],
   "source": [
    "# numerical variables\n",
    "NUMERICAL_VARIABLES = ['current_year',\n",
    "                       'current_white_population_pct',\n",
    "                       'current_african_american_population_pct',\n",
    "                       'current_asian_population_pct',\n",
    "                       'current_hispanic_population_pct',\n",
    "                       'current_university_graduates',\n",
    "                       'current_unemployment_rate',\n",
    "                       'current_poverty_rate',\n",
    "                       'current_median_age',\n",
    "                       'current_median_household_income',\n",
    "                       'current_cook_partisan_voting_index',\n",
    "                       'current_democratic_votes',\n",
    "                       'current_republican_votes',\n",
    "                       'previous_year',\n",
    "                       'previous_white_population_pct',\n",
    "                       'previous_african_american_population_pct',\n",
    "                       'previous_asian_population_pct',\n",
    "                       'previous_hispanic_population_pct',\n",
    "                       'previous_university_graduates',\n",
    "                       'previous_unemployment_rate',\n",
    "                       'previous_poverty_rate',\n",
    "                       'previous_median_age',\n",
    "                       'previous_median_household_income',\n",
    "                       'previous_cook_partisan_voting_index',\n",
    "                       'previous_democratic_votes',\n",
    "                       'previous_republican_votes']"
   ]
  },
  {
   "cell_type": "code",
   "execution_count": 10,
   "id": "b9413e81",
   "metadata": {},
   "outputs": [],
   "source": [
    "# categorical variables\n",
    "CATEGORICAL_VARIABLES = ['previous_midterm_election',\n",
    "                         'previous_winner',\n",
    "                         'current_midterm_election']"
   ]
  },
  {
   "cell_type": "code",
   "execution_count": 11,
   "id": "b5b18337",
   "metadata": {},
   "outputs": [],
   "source": [
    "# target variables\n",
    "TARGET_VARIABLE = 'current_winner'"
   ]
  },
  {
   "cell_type": "code",
   "execution_count": 12,
   "id": "42b8657d",
   "metadata": {},
   "outputs": [],
   "source": [
    "# store the features and target in the variables X and y\n",
    "X, y = df[NUMERICAL_VARIABLES + CATEGORICAL_VARIABLES], df[TARGET_VARIABLE]"
   ]
  },
  {
   "cell_type": "code",
   "execution_count": 13,
   "id": "03e96894",
   "metadata": {},
   "outputs": [],
   "source": [
    "# split X and y into training and test sets in the ratio 80:20\n",
    "X_train, X_test, y_train, y_test = train_test_split(X, y, test_size = 0.2)"
   ]
  },
  {
   "cell_type": "code",
   "execution_count": 14,
   "id": "7e8ddf33",
   "metadata": {},
   "outputs": [],
   "source": [
    "# impute missing values in the numerical variables using KNNImputer\n",
    "N_train = KNNImputer(n_neighbors = 5).fit_transform(X_train[NUMERICAL_VARIABLES])\n",
    "N_test = KNNImputer(n_neighbors = 5).fit_transform(X_test[NUMERICAL_VARIABLES])"
   ]
  },
  {
   "cell_type": "code",
   "execution_count": 15,
   "id": "65452e3d",
   "metadata": {},
   "outputs": [],
   "source": [
    "# impute missing values in the categorical variables with the word 'unknown'\n",
    "C_train, C_test = X_train[CATEGORICAL_VARIABLES].fillna('Unknown'), X_test[CATEGORICAL_VARIABLES].fillna('Unknown')"
   ]
  },
  {
   "cell_type": "code",
   "execution_count": 16,
   "id": "4928089d",
   "metadata": {},
   "outputs": [],
   "source": [
    "# combine both imputed arrays to form X_train and X_test\n",
    "X_train = pd.DataFrame(data = np.hstack((N_train, C_train)), columns = NUMERICAL_VARIABLES + CATEGORICAL_VARIABLES)\n",
    "X_test = pd.DataFrame(data = np.hstack((N_test, C_test)), columns = NUMERICAL_VARIABLES + CATEGORICAL_VARIABLES)"
   ]
  },
  {
   "cell_type": "code",
   "execution_count": 17,
   "id": "5fef8a93",
   "metadata": {},
   "outputs": [],
   "source": [
    "# initialize OneHotEncoder and StandardScaler\n",
    "preprocessor = ColumnTransformer([('one-hot-encoder', OneHotEncoder(handle_unknown = 'ignore'), CATEGORICAL_VARIABLES),\n",
    "                                  ('standard_scaler', StandardScaler(), NUMERICAL_VARIABLES)])"
   ]
  },
  {
   "cell_type": "code",
   "execution_count": 18,
   "id": "55deaa9a",
   "metadata": {},
   "outputs": [],
   "source": [
    "# preprocess X_train and X_test\n",
    "X_train, X_test = preprocessor.fit_transform(X_train), preprocessor.fit_transform(X_test)"
   ]
  },
  {
   "cell_type": "code",
   "execution_count": 19,
   "id": "e210575a",
   "metadata": {},
   "outputs": [],
   "source": [
    "# initialize LabelEncoder to convert y_train and y_test\n",
    "y_train, y_test = LabelEncoder().fit_transform(y_train), LabelEncoder().fit_transform(y_test)"
   ]
  },
  {
   "cell_type": "code",
   "execution_count": 20,
   "id": "c1f13466",
   "metadata": {},
   "outputs": [],
   "source": [
    "# split X_train and y_train further into training and validation sets\n",
    "# the ratio of training, validation and test sets is 60:20:20\n",
    "X_train, X_val, y_train, y_val = train_test_split(X_train, y_train, test_size = 0.2)"
   ]
  },
  {
   "cell_type": "code",
   "execution_count": 21,
   "id": "caff16f0",
   "metadata": {},
   "outputs": [],
   "source": [
    "# compute the samples\n",
    "samples = df.groupby([TARGET_VARIABLE])[TARGET_VARIABLE].count()"
   ]
  },
  {
   "cell_type": "code",
   "execution_count": 22,
   "id": "2bf22e55",
   "metadata": {},
   "outputs": [
    {
     "name": "stdout",
     "output_type": "stream",
     "text": [
      "Samples: current_winner\n",
      "Democratic    144\n",
      "Republican    149\n",
      "Name: current_winner, dtype: int64\n"
     ]
    }
   ],
   "source": [
    "# print the samples\n",
    "print('Samples: {}'.format(samples))"
   ]
  },
  {
   "cell_type": "code",
   "execution_count": 23,
   "id": "e6586243",
   "metadata": {},
   "outputs": [],
   "source": [
    "# compute the baseline\n",
    "baseline = samples.iloc[1] / samples.sum()"
   ]
  },
  {
   "cell_type": "code",
   "execution_count": 24,
   "id": "81b1235c",
   "metadata": {},
   "outputs": [
    {
     "name": "stdout",
     "output_type": "stream",
     "text": [
      "Baseline: 0.51\n"
     ]
    }
   ],
   "source": [
    "# print the baseline\n",
    "print('Baseline: {:.2f}'.format(baseline))"
   ]
  },
  {
   "cell_type": "code",
   "execution_count": 25,
   "id": "20354829",
   "metadata": {},
   "outputs": [
    {
     "data": {
      "text/plain": [
       "0.5"
      ]
     },
     "execution_count": 25,
     "metadata": {},
     "output_type": "execute_result"
    }
   ],
   "source": [
    "# print the balanced accuracy score\n",
    "balanced_accuracy_score(y_train, np.zeros(len(y_train)))"
   ]
  },
  {
   "cell_type": "code",
   "execution_count": 26,
   "id": "c258ffde",
   "metadata": {},
   "outputs": [],
   "source": [
    "# define a method to create a model\n",
    "def create_model(activation, input_dimensions, output_dimensions, optimizer, loss, metrics):\n",
    "    \n",
    "    model = Sequential()\n",
    "    model.add(Dense(output_dimensions, activation = activation, input_shape = (input_dimensions, )))\n",
    "    model.compile(optimizer = optimizer, loss = loss, metrics = metrics)\n",
    "    \n",
    "    return model"
   ]
  },
  {
   "cell_type": "code",
   "execution_count": 27,
   "id": "23eb7d21",
   "metadata": {},
   "outputs": [],
   "source": [
    "# define a method to train a model\n",
    "def train_model(model, X, y, class_weight, batch_size, epochs, val_data, callbacks):\n",
    "    \n",
    "    X_train, X_val, y_train, y_val = X, val_data[0], y, val_data[1]\n",
    "    history = model.fit(X_train, y_train, class_weight = class_weight, batch_size = batch_size, epochs = epochs,\n",
    "                        validation_data = (X_val, y_val), callbacks = callbacks, verbose = 0)\n",
    "    \n",
    "    return {'model': model, 'evaluation': model.evaluate(X_val, y_val, verbose = 0)[1:], 'history': history}"
   ]
  },
  {
   "cell_type": "code",
   "execution_count": 28,
   "id": "7db68b91",
   "metadata": {},
   "outputs": [],
   "source": [
    "# creates a model\n",
    "model = create_model(activation = 'sigmoid',\n",
    "                     input_dimensions = X_train.shape[1],\n",
    "                     output_dimensions = 1,\n",
    "                     optimizer = 'adam',\n",
    "                     loss = 'binary_crossentropy',\n",
    "                     metrics = ['categorical_accuracy',\n",
    "                                tf.keras.metrics.Precision(name = 'precision'),\n",
    "                                tf.keras.metrics.Recall(name = 'recall'),\n",
    "                                tf.keras.metrics.AUC(name = 'auc', multi_label = True)])"
   ]
  },
  {
   "cell_type": "code",
   "execution_count": 29,
   "id": "fc856ed0",
   "metadata": {},
   "outputs": [
    {
     "name": "stdout",
     "output_type": "stream",
     "text": [
      "Model: \"sequential\"\n",
      "_________________________________________________________________\n",
      " Layer (type)                Output Shape              Param #   \n",
      "=================================================================\n",
      " dense (Dense)               (None, 1)                 33        \n",
      "                                                                 \n",
      "=================================================================\n",
      "Total params: 33\n",
      "Trainable params: 33\n",
      "Non-trainable params: 0\n",
      "_________________________________________________________________\n"
     ]
    }
   ],
   "source": [
    "# prints a summary of the model\n",
    "model.summary()"
   ]
  },
  {
   "cell_type": "code",
   "execution_count": 30,
   "id": "12e4f0d3",
   "metadata": {},
   "outputs": [],
   "source": [
    "# trains the model\n",
    "trained_model = train_model(model, X_train, y_train,\n",
    "                            class_weight = dict(enumerate(compute_class_weight('balanced',\n",
    "                                                                               classes = np.unique(y_test),\n",
    "                                                                               y = y_train))),\n",
    "                            batch_size = 30,\n",
    "                            epochs = 200,\n",
    "                            val_data = (X_val, y_val),\n",
    "                            callbacks = [EarlyStopping(monitor = 'val_loss',\n",
    "                                                       restore_best_weights = True,\n",
    "                                                       patience = 5,\n",
    "                                                       verbose = 0)])"
   ]
  },
  {
   "cell_type": "code",
   "execution_count": 31,
   "id": "6db0dec2",
   "metadata": {},
   "outputs": [
    {
     "name": "stdout",
     "output_type": "stream",
     "text": [
      "Accuracy (Validation): 1.00 (Baseline: 0.51)\n",
      "Precision (Validation): 0.89\n",
      "Recall (Validation): 0.93\n",
      "AUC (Valiation): 0.94\n"
     ]
    }
   ],
   "source": [
    "# print the metrics of the model\n",
    "print('Accuracy (Validation): {:.2f} (Baseline: {:.2f})'.format(trained_model['evaluation'][0], baseline))\n",
    "print('Precision (Validation): {:.2f}'.format(trained_model['evaluation'][1]))\n",
    "print('Recall (Validation): {:.2f}'.format(trained_model['evaluation'][2]))\n",
    "print('AUC (Valiation): {:.2f}'.format(trained_model['evaluation'][3]))"
   ]
  },
  {
   "cell_type": "code",
   "execution_count": 32,
   "id": "55cc05d4",
   "metadata": {},
   "outputs": [],
   "source": [
    "# predict the validation set using the model\n",
    "predictions = (trained_model['model'].predict(X_val, verbose = 0) > 0.5).astype('int32')"
   ]
  },
  {
   "cell_type": "code",
   "execution_count": 33,
   "id": "2c0eb0e4",
   "metadata": {},
   "outputs": [
    {
     "name": "stdout",
     "output_type": "stream",
     "text": [
      "Balanced Accuracy (Validation): 0.89 (Baseline: 0.51)\n"
     ]
    }
   ],
   "source": [
    "# print the balanced accuracy score for predictions on validation set\n",
    "print('Balanced Accuracy (Validation): {:.2f} (Baseline: {:.2f})'.format(balanced_accuracy_score(y_val, predictions), baseline))"
   ]
  },
  {
   "cell_type": "code",
   "execution_count": 34,
   "id": "61396f80",
   "metadata": {},
   "outputs": [],
   "source": [
    "# define a method to plot the training and validation curves for the model\n",
    "def plot_curves(history, monitors):\n",
    "    \n",
    "    fig, axs = plt.subplots(1, 2, sharex = 'all', figsize = (20, 5))\n",
    "    \n",
    "    for ax, monitor in zip(axs.flat, monitors):\n",
    "        train, val = history.history[monitor], history.history['val_' + monitor]\n",
    "        epochs = range(1, len(train) + 1)\n",
    "        \n",
    "        if monitor == 'loss':\n",
    "            monitor = monitor.capitalize()\n",
    "            \n",
    "        else:\n",
    "            monitor = monitor.upper()\n",
    "            \n",
    "        ax.plot(epochs, train, 'b.', label = 'Training ' + monitor)\n",
    "        ax.plot(epochs, val, 'r.', label = 'Validation ' + monitor)\n",
    "        ax.set_xlim([0, len(train)])\n",
    "        ax.title.set_text('Training and Validation ' + monitor)\n",
    "        ax.set_xlabel('Epochs')\n",
    "        ax.set_ylabel(monitor)\n",
    "        ax.legend(prop = {'size': 12})\n",
    "        ax.grid()\n",
    "        \n",
    "    plt.tight_layout()\n",
    "    plt.show()"
   ]
  },
  {
   "cell_type": "code",
   "execution_count": 35,
   "id": "72f7480c",
   "metadata": {},
   "outputs": [
    {
     "data": {
      "image/png": "[encoded data removed]",
      "text/plain": [
       "<Figure size 1440x360 with 2 Axes>"
      ]
     },
     "metadata": {
      "needs_background": "light"
     },
     "output_type": "display_data"
    }
   ],
   "source": [
    "# plot the training and validation curves for the model\n",
    "plot_curves(trained_model['history'], monitors = ['loss', 'auc'])"
   ]
  },
  {
   "cell_type": "code",
   "execution_count": 36,
   "id": "6d359128",
   "metadata": {},
   "outputs": [],
   "source": [
    "# predict the test set using the model\n",
    "y_pred = (trained_model['model'].predict(X_test, verbose = 0) > 0.5).astype('int32')"
   ]
  },
  {
   "cell_type": "code",
   "execution_count": 37,
   "id": "cba9c1c9",
   "metadata": {},
   "outputs": [
    {
     "name": "stdout",
     "output_type": "stream",
     "text": [
      "Balanced Accuracy (Test): 0.87 (Baseline: 0.51)\n"
     ]
    }
   ],
   "source": [
    "# print the balanced accuracy score for predictions on test set\n",
    "print('Balanced Accuracy (Test): {:.2f} (Baseline: {:.2f})'.format(balanced_accuracy_score(y_test, y_pred), baseline))"
   ]
  }
 ],
 "metadata": {
  "kernelspec": {
   "display_name": "Python 3 (ipykernel)",
   "language": "python",
   "name": "python3"
  },
  "language_info": {
   "codemirror_mode": {
    "name": "ipython",
    "version": 3
   },
   "file_extension": ".py",
   "mimetype": "text/x-python",
   "name": "python",
   "nbconvert_exporter": "python",
   "pygments_lexer": "ipython3",
   "version": "3.9.12"
  }
 },
 "nbformat": 4,
 "nbformat_minor": 5
}
